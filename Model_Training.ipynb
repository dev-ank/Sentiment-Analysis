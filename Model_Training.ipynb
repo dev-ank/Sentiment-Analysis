{
  "nbformat": 4,
  "nbformat_minor": 0,
  "metadata": {
    "colab": {
      "name": "Model_Training.ipynb",
      "provenance": [],
      "collapsed_sections": [],
      "machine_shape": "hm"
    },
    "kernelspec": {
      "name": "python3",
      "display_name": "Python 3"
    },
    "accelerator": "TPU"
  },
  "cells": [
    {
      "cell_type": "code",
      "metadata": {
        "id": "tAb77yZ9fzMG",
        "colab": {
          "base_uri": "https://localhost:8080/"
        },
        "outputId": "76ca06c9-b4e5-448f-c335-f4bd1c77fa07"
      },
      "source": [
        "import pandas as pd\n",
        "import numpy as np\n",
        "import nltk\n",
        "import re\n",
        "nltk.download('stopwords')"
      ],
      "execution_count": 1,
      "outputs": [
        {
          "output_type": "stream",
          "text": [
            "[nltk_data] Downloading package stopwords to /root/nltk_data...\n",
            "[nltk_data]   Unzipping corpora/stopwords.zip.\n"
          ],
          "name": "stdout"
        },
        {
          "output_type": "execute_result",
          "data": {
            "text/plain": [
              "True"
            ]
          },
          "metadata": {
            "tags": []
          },
          "execution_count": 1
        }
      ]
    },
    {
      "cell_type": "code",
      "metadata": {
        "id": "go68VfS1U7GN"
      },
      "source": [
        "df =  pd.read_csv('final_dataset.csv')"
      ],
      "execution_count": 2,
      "outputs": []
    },
    {
      "cell_type": "code",
      "metadata": {
        "colab": {
          "base_uri": "https://localhost:8080/",
          "height": 204
        },
        "id": "CBW5aXkueGlC",
        "outputId": "1c5d164e-e470-46e0-d12e-ef62d7906f15"
      },
      "source": [
        "df.head()"
      ],
      "execution_count": 3,
      "outputs": [
        {
          "output_type": "execute_result",
          "data": {
            "text/html": [
              "<div>\n",
              "<style scoped>\n",
              "    .dataframe tbody tr th:only-of-type {\n",
              "        vertical-align: middle;\n",
              "    }\n",
              "\n",
              "    .dataframe tbody tr th {\n",
              "        vertical-align: top;\n",
              "    }\n",
              "\n",
              "    .dataframe thead th {\n",
              "        text-align: right;\n",
              "    }\n",
              "</style>\n",
              "<table border=\"1\" class=\"dataframe\">\n",
              "  <thead>\n",
              "    <tr style=\"text-align: right;\">\n",
              "      <th></th>\n",
              "      <th>reviewText</th>\n",
              "      <th>overall</th>\n",
              "      <th>summary</th>\n",
              "    </tr>\n",
              "  </thead>\n",
              "  <tbody>\n",
              "    <tr>\n",
              "      <th>0</th>\n",
              "      <td>These were not at all what I was expecting. Th...</td>\n",
              "      <td>1</td>\n",
              "      <td>They look like gloves you would use to clean a...</td>\n",
              "    </tr>\n",
              "    <tr>\n",
              "      <th>1</th>\n",
              "      <td>its too uglyand the size is too small.i can ha...</td>\n",
              "      <td>1</td>\n",
              "      <td>so bad</td>\n",
              "    </tr>\n",
              "    <tr>\n",
              "      <th>2</th>\n",
              "      <td>The sizes with this company run very small.  T...</td>\n",
              "      <td>1</td>\n",
              "      <td>Size</td>\n",
              "    </tr>\n",
              "    <tr>\n",
              "      <th>3</th>\n",
              "      <td>The shoes are size one and are 1 &amp;1/2 inches t...</td>\n",
              "      <td>1</td>\n",
              "      <td>One Star</td>\n",
              "    </tr>\n",
              "    <tr>\n",
              "      <th>4</th>\n",
              "      <td>I received these in the mail today and they ar...</td>\n",
              "      <td>1</td>\n",
              "      <td>Dirty, worn shoes.</td>\n",
              "    </tr>\n",
              "  </tbody>\n",
              "</table>\n",
              "</div>"
            ],
            "text/plain": [
              "                                          reviewText  ...                                            summary\n",
              "0  These were not at all what I was expecting. Th...  ...  They look like gloves you would use to clean a...\n",
              "1  its too uglyand the size is too small.i can ha...  ...                                             so bad\n",
              "2  The sizes with this company run very small.  T...  ...                                               Size\n",
              "3  The shoes are size one and are 1 &1/2 inches t...  ...                                           One Star\n",
              "4  I received these in the mail today and they ar...  ...                                 Dirty, worn shoes.\n",
              "\n",
              "[5 rows x 3 columns]"
            ]
          },
          "metadata": {
            "tags": []
          },
          "execution_count": 3
        }
      ]
    },
    {
      "cell_type": "code",
      "metadata": {
        "colab": {
          "base_uri": "https://localhost:8080/"
        },
        "id": "jeGqjwJeU7Qq",
        "outputId": "acbde87e-5449-49d5-c18e-92844348d452"
      },
      "source": [
        "df.isnull().sum(axis = 0)"
      ],
      "execution_count": 4,
      "outputs": [
        {
          "output_type": "execute_result",
          "data": {
            "text/plain": [
              "reviewText    590\n",
              "overall         0\n",
              "summary       225\n",
              "dtype: int64"
            ]
          },
          "metadata": {
            "tags": []
          },
          "execution_count": 4
        }
      ]
    },
    {
      "cell_type": "code",
      "metadata": {
        "id": "aqA7HbDHU7S1"
      },
      "source": [
        "df.dropna(inplace =  True)"
      ],
      "execution_count": 5,
      "outputs": []
    },
    {
      "cell_type": "code",
      "metadata": {
        "id": "Xr1zBXMWU7V4"
      },
      "source": [
        "df = df [df['overall'] != 3]\n",
        "df['Positivity'] = np.where(df['overall'] > 3 , 1 , 0)\n"
      ],
      "execution_count": 6,
      "outputs": []
    },
    {
      "cell_type": "code",
      "metadata": {
        "colab": {
          "base_uri": "https://localhost:8080/",
          "height": 204
        },
        "id": "on2WnwnZ8p7X",
        "outputId": "6683b36b-70d4-4094-bd8d-a608971fafc6"
      },
      "source": [
        "df.head()"
      ],
      "execution_count": 7,
      "outputs": [
        {
          "output_type": "execute_result",
          "data": {
            "text/html": [
              "<div>\n",
              "<style scoped>\n",
              "    .dataframe tbody tr th:only-of-type {\n",
              "        vertical-align: middle;\n",
              "    }\n",
              "\n",
              "    .dataframe tbody tr th {\n",
              "        vertical-align: top;\n",
              "    }\n",
              "\n",
              "    .dataframe thead th {\n",
              "        text-align: right;\n",
              "    }\n",
              "</style>\n",
              "<table border=\"1\" class=\"dataframe\">\n",
              "  <thead>\n",
              "    <tr style=\"text-align: right;\">\n",
              "      <th></th>\n",
              "      <th>reviewText</th>\n",
              "      <th>overall</th>\n",
              "      <th>summary</th>\n",
              "      <th>Positivity</th>\n",
              "    </tr>\n",
              "  </thead>\n",
              "  <tbody>\n",
              "    <tr>\n",
              "      <th>0</th>\n",
              "      <td>These were not at all what I was expecting. Th...</td>\n",
              "      <td>1</td>\n",
              "      <td>They look like gloves you would use to clean a...</td>\n",
              "      <td>0</td>\n",
              "    </tr>\n",
              "    <tr>\n",
              "      <th>1</th>\n",
              "      <td>its too uglyand the size is too small.i can ha...</td>\n",
              "      <td>1</td>\n",
              "      <td>so bad</td>\n",
              "      <td>0</td>\n",
              "    </tr>\n",
              "    <tr>\n",
              "      <th>2</th>\n",
              "      <td>The sizes with this company run very small.  T...</td>\n",
              "      <td>1</td>\n",
              "      <td>Size</td>\n",
              "      <td>0</td>\n",
              "    </tr>\n",
              "    <tr>\n",
              "      <th>3</th>\n",
              "      <td>The shoes are size one and are 1 &amp;1/2 inches t...</td>\n",
              "      <td>1</td>\n",
              "      <td>One Star</td>\n",
              "      <td>0</td>\n",
              "    </tr>\n",
              "    <tr>\n",
              "      <th>4</th>\n",
              "      <td>I received these in the mail today and they ar...</td>\n",
              "      <td>1</td>\n",
              "      <td>Dirty, worn shoes.</td>\n",
              "      <td>0</td>\n",
              "    </tr>\n",
              "  </tbody>\n",
              "</table>\n",
              "</div>"
            ],
            "text/plain": [
              "                                          reviewText  ...  Positivity\n",
              "0  These were not at all what I was expecting. Th...  ...           0\n",
              "1  its too uglyand the size is too small.i can ha...  ...           0\n",
              "2  The sizes with this company run very small.  T...  ...           0\n",
              "3  The shoes are size one and are 1 &1/2 inches t...  ...           0\n",
              "4  I received these in the mail today and they ar...  ...           0\n",
              "\n",
              "[5 rows x 4 columns]"
            ]
          },
          "metadata": {
            "tags": []
          },
          "execution_count": 7
        }
      ]
    },
    {
      "cell_type": "code",
      "metadata": {
        "id": "faAIrN6r-k99"
      },
      "source": [
        "X=df['reviewText']\n",
        "y=df['Positivity']"
      ],
      "execution_count": 8,
      "outputs": []
    },
    {
      "cell_type": "code",
      "metadata": {
        "colab": {
          "base_uri": "https://localhost:8080/"
        },
        "id": "vn1NDNL4Wp32",
        "outputId": "07bfb68b-9e61-40ec-e30f-bae6fdefc61e"
      },
      "source": [
        "len(y)"
      ],
      "execution_count": 9,
      "outputs": [
        {
          "output_type": "execute_result",
          "data": {
            "text/plain": [
              "527355"
            ]
          },
          "metadata": {
            "tags": []
          },
          "execution_count": 9
        }
      ]
    },
    {
      "cell_type": "code",
      "metadata": {
        "colab": {
          "base_uri": "https://localhost:8080/"
        },
        "id": "8qG7sQOYXdSt",
        "outputId": "ef930129-c787-43b5-cef2-5e419030aaa5"
      },
      "source": [
        "y.value_counts()"
      ],
      "execution_count": 26,
      "outputs": [
        {
          "output_type": "execute_result",
          "data": {
            "text/plain": [
              "0    263811\n",
              "1    263544\n",
              "Name: Positivity, dtype: int64"
            ]
          },
          "metadata": {
            "tags": []
          },
          "execution_count": 26
        }
      ]
    },
    {
      "cell_type": "code",
      "metadata": {
        "colab": {
          "base_uri": "https://localhost:8080/"
        },
        "id": "DKd28q9t-lBO",
        "outputId": "b2139712-0ade-4918-fbd4-12d957f058f0"
      },
      "source": [
        "df.shape"
      ],
      "execution_count": 11,
      "outputs": [
        {
          "output_type": "execute_result",
          "data": {
            "text/plain": [
              "(527355, 4)"
            ]
          },
          "metadata": {
            "tags": []
          },
          "execution_count": 11
        }
      ]
    },
    {
      "cell_type": "code",
      "metadata": {
        "id": "8_CY-432U7Yl"
      },
      "source": [
        "from nltk.stem.porter import PorterStemmer\n",
        "from nltk.corpus import stopwords\n",
        "\n",
        "corpus = []\n",
        "for i in X:\n",
        "    review = re.sub('[^a-zA-Z]', ' ' ,i)\n",
        "    review = review.lower()\n",
        "    review = review.split()\n",
        "    review = [word for word in review if not word in stopwords.words('english')]\n",
        "    ps = PorterStemmer()\n",
        "    review = [ps.stem(word) for word in review]\n",
        "    review = \" \".join(review)\n",
        "    corpus.append(review)"
      ],
      "execution_count": 12,
      "outputs": []
    },
    {
      "cell_type": "code",
      "metadata": {
        "colab": {
          "base_uri": "https://localhost:8080/",
          "height": 35
        },
        "id": "C6x-D-UJHf7W",
        "outputId": "2ded6c9d-febe-4728-ff2b-2cd1e05a2659"
      },
      "source": [
        "corpus[0]"
      ],
      "execution_count": 13,
      "outputs": [
        {
          "output_type": "execute_result",
          "data": {
            "application/vnd.google.colaboratory.intrinsic+json": {
              "type": "string"
            },
            "text/plain": [
              "'expect look like glove would use clean bathroom take trash also super big around th wrist arm recommend'"
            ]
          },
          "metadata": {
            "tags": []
          },
          "execution_count": 13
        }
      ]
    },
    {
      "cell_type": "code",
      "metadata": {
        "id": "25xM2iwq1SDn"
      },
      "source": [
        "from sklearn.feature_extraction.text import TfidfVectorizer\n",
        "\n",
        "vect = TfidfVectorizer(min_df = 5,max_features=5000).fit(corpus)\n",
        "features_train_vectorized = vect.transform(corpus).todense()"
      ],
      "execution_count": 14,
      "outputs": []
    },
    {
      "cell_type": "code",
      "metadata": {
        "colab": {
          "base_uri": "https://localhost:8080/"
        },
        "id": "CVipl7fDH9pq",
        "outputId": "cc3a7b4c-b3eb-4bfd-e018-0f99aa7eba4b"
      },
      "source": [
        "len(vect.vocabulary_)"
      ],
      "execution_count": 15,
      "outputs": [
        {
          "output_type": "execute_result",
          "data": {
            "text/plain": [
              "5000"
            ]
          },
          "metadata": {
            "tags": []
          },
          "execution_count": 15
        }
      ]
    },
    {
      "cell_type": "code",
      "metadata": {
        "colab": {
          "base_uri": "https://localhost:8080/"
        },
        "id": "Kqikf8RuM_oh",
        "outputId": "b0a2adc9-f20c-48b4-ad69-86104ac28ff6"
      },
      "source": [
        "features_train_vectorized"
      ],
      "execution_count": 16,
      "outputs": [
        {
          "output_type": "execute_result",
          "data": {
            "text/plain": [
              "matrix([[0., 0., 0., ..., 0., 0., 0.],\n",
              "        [0., 0., 0., ..., 0., 0., 0.],\n",
              "        [0., 0., 0., ..., 0., 0., 0.],\n",
              "        ...,\n",
              "        [0., 0., 0., ..., 0., 0., 0.],\n",
              "        [0., 0., 0., ..., 0., 0., 0.],\n",
              "        [0., 0., 0., ..., 0., 0., 0.]])"
            ]
          },
          "metadata": {
            "tags": []
          },
          "execution_count": 16
        }
      ]
    },
    {
      "cell_type": "code",
      "metadata": {
        "id": "OaLDIoGSd8TT"
      },
      "source": [
        "import tensorflow as tf\n",
        "from tensorflow import keras\n",
        "from tensorflow.keras import layers"
      ],
      "execution_count": 17,
      "outputs": []
    },
    {
      "cell_type": "code",
      "metadata": {
        "colab": {
          "base_uri": "https://localhost:8080/"
        },
        "id": "qqNYR6rNd8WG",
        "outputId": "a1594ca9-017b-4407-8588-602d282c2772"
      },
      "source": [
        "model = keras.Sequential()\n",
        "model.add(layers.Dense(2000,input_shape=(5000,),activation=\"relu\"))\n",
        "model.add(layers.Dropout(0.5))\n",
        "model.add(layers.Dense(1000, activation=\"relu\"))\n",
        "model.add(layers.Dropout(0.5))\n",
        "model.add(layers.Dense(500,activation=\"relu\"))\n",
        "model.add(layers.Dropout(0.5))\n",
        "model.add(layers.Dense(1,activation=\"sigmoid\"))\n",
        "\n",
        "model.compile(optimizer='adam',loss='binary_crossentropy',metrics=['accuracy'])\n",
        "tf.sparse.reorder\n",
        "model.fit(features_train_vectorized,y,epochs=5,validation_split=0.2)\n"
      ],
      "execution_count": 18,
      "outputs": [
        {
          "output_type": "stream",
          "text": [
            "Epoch 1/5\n",
            "13184/13184 [==============================] - 249s 19ms/step - loss: 0.3215 - accuracy: 0.8635 - val_loss: 0.2836 - val_accuracy: 0.8804\n",
            "Epoch 2/5\n",
            "13184/13184 [==============================] - 252s 19ms/step - loss: 0.2621 - accuracy: 0.8990 - val_loss: 0.2758 - val_accuracy: 0.8865\n",
            "Epoch 3/5\n",
            "13184/13184 [==============================] - 254s 19ms/step - loss: 0.2294 - accuracy: 0.9136 - val_loss: 0.2751 - val_accuracy: 0.8884\n",
            "Epoch 4/5\n",
            "13184/13184 [==============================] - 254s 19ms/step - loss: 0.1952 - accuracy: 0.9294 - val_loss: 0.2994 - val_accuracy: 0.8884\n",
            "Epoch 5/5\n",
            "13184/13184 [==============================] - 255s 19ms/step - loss: 0.1653 - accuracy: 0.9416 - val_loss: 0.3296 - val_accuracy: 0.8857\n"
          ],
          "name": "stdout"
        },
        {
          "output_type": "execute_result",
          "data": {
            "text/plain": [
              "<tensorflow.python.keras.callbacks.History at 0x7efb1d676210>"
            ]
          },
          "metadata": {
            "tags": []
          },
          "execution_count": 18
        }
      ]
    },
    {
      "cell_type": "code",
      "metadata": {
        "colab": {
          "base_uri": "https://localhost:8080/"
        },
        "id": "NlUs6FRAd8aD",
        "outputId": "1935e5e1-32c7-49dd-ee99-dcc4f7ff551a"
      },
      "source": [
        "model.summary()"
      ],
      "execution_count": 19,
      "outputs": [
        {
          "output_type": "stream",
          "text": [
            "Model: \"sequential\"\n",
            "_________________________________________________________________\n",
            "Layer (type)                 Output Shape              Param #   \n",
            "=================================================================\n",
            "dense (Dense)                (None, 2000)              10002000  \n",
            "_________________________________________________________________\n",
            "dropout (Dropout)            (None, 2000)              0         \n",
            "_________________________________________________________________\n",
            "dense_1 (Dense)              (None, 1000)              2001000   \n",
            "_________________________________________________________________\n",
            "dropout_1 (Dropout)          (None, 1000)              0         \n",
            "_________________________________________________________________\n",
            "dense_2 (Dense)              (None, 500)               500500    \n",
            "_________________________________________________________________\n",
            "dropout_2 (Dropout)          (None, 500)               0         \n",
            "_________________________________________________________________\n",
            "dense_3 (Dense)              (None, 1)                 501       \n",
            "=================================================================\n",
            "Total params: 12,504,001\n",
            "Trainable params: 12,504,001\n",
            "Non-trainable params: 0\n",
            "_________________________________________________________________\n"
          ],
          "name": "stdout"
        }
      ]
    },
    {
      "cell_type": "code",
      "metadata": {
        "id": "gulDsPpAd8eB"
      },
      "source": [
        "model.save('model.h5')"
      ],
      "execution_count": 20,
      "outputs": []
    },
    {
      "cell_type": "code",
      "metadata": {
        "id": "DrH9yc8od8jV"
      },
      "source": [
        "import pickle\n",
        "\n",
        "with open('tfidf_vocab.pkl','wb') as tf1:\n",
        "    pickle.dump(vect.vocabulary_,tf1)"
      ],
      "execution_count": 21,
      "outputs": []
    },
    {
      "cell_type": "code",
      "metadata": {
        "colab": {
          "base_uri": "https://localhost:8080/",
          "height": 265
        },
        "id": "0cez51qCd8nI",
        "outputId": "1bb76b7f-e76a-4931-e0d7-abe4209bf4ed"
      },
      "source": [
        "import matplotlib.pyplot as plt\n",
        "\n",
        "plt.plot(model.history.history['accuracy'],label='training accuracy')                        \n",
        "plt.plot(model.history.history['val_accuracy'],label='validation accuracy')\n",
        "plt.legend()\n",
        "plt.show()"
      ],
      "execution_count": 22,
      "outputs": [
        {
          "output_type": "display_data",
          "data": {
            "image/png": "[encoded data removed]",
            "text/plain": [
              "<Figure size 432x288 with 1 Axes>"
            ]
          },
          "metadata": {
            "tags": [],
            "needs_background": "light"
          }
        }
      ]
    },
    {
      "cell_type": "code",
      "metadata": {
        "colab": {
          "base_uri": "https://localhost:8080/",
          "height": 265
        },
        "id": "VxWpeeBz7PIR",
        "outputId": "7b911a22-8444-4c36-ecd9-20479dbe068f"
      },
      "source": [
        "plt.plot(model.history.history['loss'],label='training loss')                         \n",
        "plt.plot(model.history.history['val_loss'],label='validation loss')\n",
        "plt.legend()\n",
        "plt.show()"
      ],
      "execution_count": 23,
      "outputs": [
        {
          "output_type": "display_data",
          "data": {
            "image/png": "[encoded data removed]",
            "text/plain": [
              "<Figure size 432x288 with 1 Axes>"
            ]
          },
          "metadata": {
            "tags": [],
            "needs_background": "light"
          }
        }
      ]
    },
    {
      "cell_type": "code",
      "metadata": {
        "colab": {
          "base_uri": "https://localhost:8080/"
        },
        "id": "V4YUZ0dD7PLO",
        "outputId": "93ae271c-28e4-445e-dd1a-764d300609a3"
      },
      "source": [
        "model.history.history"
      ],
      "execution_count": 24,
      "outputs": [
        {
          "output_type": "execute_result",
          "data": {
            "text/plain": [
              "{'accuracy': [0.8769211173057556,\n",
              "  0.897614061832428,\n",
              "  0.9122199416160583,\n",
              "  0.9267381429672241,\n",
              "  0.9382768869400024],\n",
              " 'loss': [0.3007679879665375,\n",
              "  0.2642839848995209,\n",
              "  0.23271261155605316,\n",
              "  0.20131491124629974,\n",
              "  0.17350870370864868],\n",
              " 'val_accuracy': [0.8803842067718506,\n",
              "  0.886471152305603,\n",
              "  0.8883768916130066,\n",
              "  0.888357937335968,\n",
              "  0.8856936693191528],\n",
              " 'val_loss': [0.283633828163147,\n",
              "  0.2758117616176605,\n",
              "  0.2750532627105713,\n",
              "  0.29940614104270935,\n",
              "  0.32964420318603516]}"
            ]
          },
          "metadata": {
            "tags": []
          },
          "execution_count": 24
        }
      ]
    },
    {
      "cell_type": "code",
      "metadata": {
        "id": "oQrEklyIwNP4"
      },
      "source": [
        "predict_vectorised=vect.transform(['bad']).todense()"
      ],
      "execution_count": 55,
      "outputs": []
    },
    {
      "cell_type": "code",
      "metadata": {
        "id": "oeaDUqvd7_R0",
        "colab": {
          "base_uri": "https://localhost:8080/"
        },
        "outputId": "00640c25-e675-4a84-fe82-7b71ca3299ab"
      },
      "source": [
        "model.predict(predict_vectorised)"
      ],
      "execution_count": 56,
      "outputs": [
        {
          "output_type": "execute_result",
          "data": {
            "text/plain": [
              "array([[0.16545323]], dtype=float32)"
            ]
          },
          "metadata": {
            "tags": []
          },
          "execution_count": 56
        }
      ]
    }
  ]
}